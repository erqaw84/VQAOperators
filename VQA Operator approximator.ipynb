{
 "cells": [
  {
   "cell_type": "code",
   "execution_count": 1,
   "metadata": {
    "scrolled": true
   },
   "outputs": [],
   "source": [
    "from qiskit import QuantumCircuit, execute, Aer\n",
    "import numpy as np\n",
    "import matplotlib.patches as mpatches\n",
    "import matplotlib.pyplot as plt\n",
    "from math import pi\n",
    "from itertools import cycle\n",
    "from scipy.optimize import minimize\n",
    "import seaborn as sns\n",
    "from VQA import * \n",
    "backend = Aer.get_backend('unitary_simulator')"
   ]
  },
  {
   "cell_type": "code",
   "execution_count": 4,
   "metadata": {},
   "outputs": [
    {
     "data": {
      "text/plain": [
       "[[0.3535533904674441,\n",
       "  0.6035533885829774,\n",
       "  0.8514692445885826,\n",
       "  0.9238792916621408,\n",
       "  0.9999999903086718,\n",
       "  0.9999986383828103],\n",
       " [0.1970549991732502,\n",
       "  0.437499998975299,\n",
       "  0.515388182767207,\n",
       "  0.6249999988941345,\n",
       "  0.8749999948286596,\n",
       "  0.8749999870619539],\n",
       " [0.12966989629227166,\n",
       "  0.2406083358852824,\n",
       "  0.33616920976203984,\n",
       "  0.3977480063721988,\n",
       "  0.507694091049167,\n",
       "  0.667939960475467]]"
      ]
     },
     "execution_count": 4,
     "metadata": {},
     "output_type": "execute_result"
    }
   ],
   "source": [
    "#optimization for multiple depths and number of qubits \n",
    "\n",
    "#The code approximates an operator in matrix form and shows how the approximation improves by increasing the depth.\n",
    "#If the operator to be approximated (target_op in the code) can change with the number of qubits(by default it is \n",
    "#a k-controlled NOT gate) the range of qubits on which it acts can be selected.\n",
    "#The code returns the absolute value of the Hilbert-Schmidth product divided by the size of the Hilbert space, making\n",
    "#the values range from 0 to 1, the closser to 1 the better the approximation.\n",
    "\n",
    "nqubits_initial=3\n",
    "nqubits_final=5\n",
    "depth=6\n",
    "ansatz=\"shea\" #by default it is the simplified hardware eficient ansatz\n",
    "\n",
    "values_all=[] #Values for all qubits and depths\n",
    "\n",
    "for n in range(nqubits_final-nqubits_initial+1):\n",
    "    n=n+nqubits_initial\n",
    "    ns=2**n #number of states\n",
    "    \n",
    "    target_op=cnx(n)[:] #Operator to be approximated, by default it is a k-controlled NOT\n",
    "    \n",
    "    entangs=entanglers(n,ansatz)[:] #matrix form of the entanglers, \n",
    "                                     #this was made to make the code more efficient.\n",
    "    values_n=[] #Values for n qubits\n",
    "    for dep in range(depth):        \n",
    "        d=dep+1\n",
    "        \n",
    "        # number of parameters per qubit per layer\n",
    "        if ansatz==\"hea\":\n",
    "            ngl=4*n*d \n",
    "        elif ansatz==\"shea\":\n",
    "            ngl=3*n*d \n",
    "            \n",
    "        p=np.random.rand(ngl)*2*pi #initial random parameters\n",
    "        \n",
    "        #Minimization\n",
    "        def cost_f (p):\n",
    "            cost_f=F(p,ansatz,n,d,entangs,target_op)\n",
    "            return cost_f\n",
    "        result = minimize(cost_f, p, options={'maxiter': 300}, callback=None, \n",
    "                  tol=1e-7, method=\"L-BFGS-B\")\n",
    "        values_n.append(np.absolute(cost_f(result.x))/ns)\n",
    "        \n",
    "    values_all.append(values_n)\n",
    "values_all"
   ]
  },
  {
   "cell_type": "code",
   "execution_count": 5,
   "metadata": {},
   "outputs": [
    {
     "data": {
      "image/png": "[encoded data removed]",
      "text/plain": [
       "<Figure size 432x288 with 2 Axes>"
      ]
     },
     "metadata": {
      "needs_background": "light"
     },
     "output_type": "display_data"
    }
   ],
   "source": [
    "nqubits=[str(x+nqubits_initial) for x in range(nqubits_final-nqubits_initial+1)]\n",
    "nlayers=[str(x+1) for x in range(depth)]\n",
    "ax = sns.heatmap(values_all, linewidth=0.5)\n",
    "ax.set_xticklabels(nlayers)\n",
    "ax.set_yticklabels(nqubits)\n",
    "\n",
    "plt.xlabel(\"Depth\")\n",
    "plt.ylabel(\"Qubits\")\n",
    "plt.title('K-controlled NOT approximations')\n",
    "plt.show()"
   ]
  },
  {
   "cell_type": "code",
   "execution_count": null,
   "metadata": {},
   "outputs": [],
   "source": []
  }
 ],
 "metadata": {
  "kernelspec": {
   "display_name": "Python 3",
   "language": "python",
   "name": "python3"
  },
  "language_info": {
   "codemirror_mode": {
    "name": "ipython",
    "version": 3
   },
   "file_extension": ".py",
   "mimetype": "text/x-python",
   "name": "python",
   "nbconvert_exporter": "python",
   "pygments_lexer": "ipython3",
   "version": "3.7.6"
  }
 },
 "nbformat": 4,
 "nbformat_minor": 4
}
